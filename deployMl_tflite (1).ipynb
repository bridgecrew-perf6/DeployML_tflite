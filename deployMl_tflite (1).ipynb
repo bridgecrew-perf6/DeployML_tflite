{
  "nbformat": 4,
  "nbformat_minor": 0,
  "metadata": {
    "colab": {
      "name": "deployMl.tflite",
      "provenance": []
    },
    "kernelspec": {
      "name": "python3",
      "display_name": "Python 3"
    },
    "language_info": {
      "name": "python"
    }
  },
  "cells": [
    {
      "cell_type": "markdown",
      "metadata": {
        "id": "ZUK025fVNPKr"
      },
      "source": [
        "Model "
      ]
    },
    {
      "cell_type": "code",
      "metadata": {
        "id": "bcuTstRKFa0e"
      },
      "source": [
        "import pandas as pd\n",
        "from sklearn.model_selection import train_test_split\n",
        "from tensorflow.keras.preprocessing.text import Tokenizer\n",
        "from tensorflow.keras.preprocessing.sequence import pad_sequences\n",
        "import tensorflow as tf"
      ],
      "execution_count": null,
      "outputs": []
    },
    {
      "cell_type": "code",
      "metadata": {
        "colab": {
          "base_uri": "https://localhost:8080/",
          "height": 204
        },
        "id": "CK89FHADFm_M",
        "outputId": "22102a0e-1306-471c-de8f-7dfe7f81e2fe"
      },
      "source": [
        "df = pd.read_csv('/content/drive/MyDrive/Colab Notebooks/SPAM text message 20170820 - Data.csv')\n",
        "df.head()"
      ],
      "execution_count": null,
      "outputs": [
        {
          "output_type": "execute_result",
          "data": {
            "text/html": [
              "<div>\n",
              "<style scoped>\n",
              "    .dataframe tbody tr th:only-of-type {\n",
              "        vertical-align: middle;\n",
              "    }\n",
              "\n",
              "    .dataframe tbody tr th {\n",
              "        vertical-align: top;\n",
              "    }\n",
              "\n",
              "    .dataframe thead th {\n",
              "        text-align: right;\n",
              "    }\n",
              "</style>\n",
              "<table border=\"1\" class=\"dataframe\">\n",
              "  <thead>\n",
              "    <tr style=\"text-align: right;\">\n",
              "      <th></th>\n",
              "      <th>Category</th>\n",
              "      <th>Message</th>\n",
              "    </tr>\n",
              "  </thead>\n",
              "  <tbody>\n",
              "    <tr>\n",
              "      <th>0</th>\n",
              "      <td>ham</td>\n",
              "      <td>Go until jurong point, crazy.. Available only ...</td>\n",
              "    </tr>\n",
              "    <tr>\n",
              "      <th>1</th>\n",
              "      <td>ham</td>\n",
              "      <td>Ok lar... Joking wif u oni...</td>\n",
              "    </tr>\n",
              "    <tr>\n",
              "      <th>2</th>\n",
              "      <td>spam</td>\n",
              "      <td>Free entry in 2 a wkly comp to win FA Cup fina...</td>\n",
              "    </tr>\n",
              "    <tr>\n",
              "      <th>3</th>\n",
              "      <td>ham</td>\n",
              "      <td>U dun say so early hor... U c already then say...</td>\n",
              "    </tr>\n",
              "    <tr>\n",
              "      <th>4</th>\n",
              "      <td>ham</td>\n",
              "      <td>Nah I don't think he goes to usf, he lives aro...</td>\n",
              "    </tr>\n",
              "  </tbody>\n",
              "</table>\n",
              "</div>"
            ],
            "text/plain": [
              "  Category                                            Message\n",
              "0      ham  Go until jurong point, crazy.. Available only ...\n",
              "1      ham                      Ok lar... Joking wif u oni...\n",
              "2     spam  Free entry in 2 a wkly comp to win FA Cup fina...\n",
              "3      ham  U dun say so early hor... U c already then say...\n",
              "4      ham  Nah I don't think he goes to usf, he lives aro..."
            ]
          },
          "metadata": {
            "tags": []
          },
          "execution_count": 2
        }
      ]
    },
    {
      "cell_type": "code",
      "metadata": {
        "colab": {
          "base_uri": "https://localhost:8080/",
          "height": 419
        },
        "id": "u6wQzvd8GymJ",
        "outputId": "00f69596-4d3f-4326-8773-25dedca65d82"
      },
      "source": [
        "category = pd.get_dummies(df.Category)\n",
        "df_catnew = pd.concat([df, category], axis=1)\n",
        "df_catnew = df_catnew.drop(columns='Category')\n",
        "df_catnew"
      ],
      "execution_count": null,
      "outputs": [
        {
          "output_type": "execute_result",
          "data": {
            "text/html": [
              "<div>\n",
              "<style scoped>\n",
              "    .dataframe tbody tr th:only-of-type {\n",
              "        vertical-align: middle;\n",
              "    }\n",
              "\n",
              "    .dataframe tbody tr th {\n",
              "        vertical-align: top;\n",
              "    }\n",
              "\n",
              "    .dataframe thead th {\n",
              "        text-align: right;\n",
              "    }\n",
              "</style>\n",
              "<table border=\"1\" class=\"dataframe\">\n",
              "  <thead>\n",
              "    <tr style=\"text-align: right;\">\n",
              "      <th></th>\n",
              "      <th>Message</th>\n",
              "      <th>ham</th>\n",
              "      <th>spam</th>\n",
              "    </tr>\n",
              "  </thead>\n",
              "  <tbody>\n",
              "    <tr>\n",
              "      <th>0</th>\n",
              "      <td>Go until jurong point, crazy.. Available only ...</td>\n",
              "      <td>1</td>\n",
              "      <td>0</td>\n",
              "    </tr>\n",
              "    <tr>\n",
              "      <th>1</th>\n",
              "      <td>Ok lar... Joking wif u oni...</td>\n",
              "      <td>1</td>\n",
              "      <td>0</td>\n",
              "    </tr>\n",
              "    <tr>\n",
              "      <th>2</th>\n",
              "      <td>Free entry in 2 a wkly comp to win FA Cup fina...</td>\n",
              "      <td>0</td>\n",
              "      <td>1</td>\n",
              "    </tr>\n",
              "    <tr>\n",
              "      <th>3</th>\n",
              "      <td>U dun say so early hor... U c already then say...</td>\n",
              "      <td>1</td>\n",
              "      <td>0</td>\n",
              "    </tr>\n",
              "    <tr>\n",
              "      <th>4</th>\n",
              "      <td>Nah I don't think he goes to usf, he lives aro...</td>\n",
              "      <td>1</td>\n",
              "      <td>0</td>\n",
              "    </tr>\n",
              "    <tr>\n",
              "      <th>...</th>\n",
              "      <td>...</td>\n",
              "      <td>...</td>\n",
              "      <td>...</td>\n",
              "    </tr>\n",
              "    <tr>\n",
              "      <th>5567</th>\n",
              "      <td>This is the 2nd time we have tried 2 contact u...</td>\n",
              "      <td>0</td>\n",
              "      <td>1</td>\n",
              "    </tr>\n",
              "    <tr>\n",
              "      <th>5568</th>\n",
              "      <td>Will ü b going to esplanade fr home?</td>\n",
              "      <td>1</td>\n",
              "      <td>0</td>\n",
              "    </tr>\n",
              "    <tr>\n",
              "      <th>5569</th>\n",
              "      <td>Pity, * was in mood for that. So...any other s...</td>\n",
              "      <td>1</td>\n",
              "      <td>0</td>\n",
              "    </tr>\n",
              "    <tr>\n",
              "      <th>5570</th>\n",
              "      <td>The guy did some bitching but I acted like i'd...</td>\n",
              "      <td>1</td>\n",
              "      <td>0</td>\n",
              "    </tr>\n",
              "    <tr>\n",
              "      <th>5571</th>\n",
              "      <td>Rofl. Its true to its name</td>\n",
              "      <td>1</td>\n",
              "      <td>0</td>\n",
              "    </tr>\n",
              "  </tbody>\n",
              "</table>\n",
              "<p>5572 rows × 3 columns</p>\n",
              "</div>"
            ],
            "text/plain": [
              "                                                Message  ham  spam\n",
              "0     Go until jurong point, crazy.. Available only ...    1     0\n",
              "1                         Ok lar... Joking wif u oni...    1     0\n",
              "2     Free entry in 2 a wkly comp to win FA Cup fina...    0     1\n",
              "3     U dun say so early hor... U c already then say...    1     0\n",
              "4     Nah I don't think he goes to usf, he lives aro...    1     0\n",
              "...                                                 ...  ...   ...\n",
              "5567  This is the 2nd time we have tried 2 contact u...    0     1\n",
              "5568               Will ü b going to esplanade fr home?    1     0\n",
              "5569  Pity, * was in mood for that. So...any other s...    1     0\n",
              "5570  The guy did some bitching but I acted like i'd...    1     0\n",
              "5571                         Rofl. Its true to its name    1     0\n",
              "\n",
              "[5572 rows x 3 columns]"
            ]
          },
          "metadata": {
            "tags": []
          },
          "execution_count": 3
        }
      ]
    },
    {
      "cell_type": "code",
      "metadata": {
        "id": "VXq8VLFjHioA"
      },
      "source": [
        "meword = df_catnew['Message'].values\n",
        "label = df_catnew[['ham', 'spam']].values"
      ],
      "execution_count": null,
      "outputs": []
    },
    {
      "cell_type": "code",
      "metadata": {
        "id": "6K6wZMsDIewP"
      },
      "source": [
        "meword_train, meword_test, label_train, label_test = train_test_split(meword, label, test_size=0.2)"
      ],
      "execution_count": null,
      "outputs": []
    },
    {
      "cell_type": "code",
      "metadata": {
        "id": "CHaEiP6bKIqC"
      },
      "source": [
        "tokenizer = Tokenizer(num_words=5000, oov_token='x')\n",
        "tokenizer.fit_on_texts(meword_train) \n",
        "tokenizer.fit_on_texts(meword_test)"
      ],
      "execution_count": null,
      "outputs": []
    },
    {
      "cell_type": "code",
      "metadata": {
        "id": "rIY2ss_zKl1s"
      },
      "source": [
        "sqns_train = tokenizer.texts_to_sequences(meword_train)\n",
        "sqns_test = tokenizer.texts_to_sequences(meword_test)"
      ],
      "execution_count": null,
      "outputs": []
    },
    {
      "cell_type": "code",
      "metadata": {
        "id": "XvkkMteJKlvD"
      },
      "source": [
        "padded_train = pad_sequences(sqns_train) \n",
        "padded_test = pad_sequences(sqns_test)"
      ],
      "execution_count": null,
      "outputs": []
    },
    {
      "cell_type": "code",
      "metadata": {
        "id": "epfF4QqDK_Fk"
      },
      "source": [
        "model = tf.keras.Sequential([\n",
        "    tf.keras.layers.Embedding(input_dim=5000, output_dim=16),\n",
        "    tf.keras.layers.LSTM(64),\n",
        "    tf.keras.layers.Dense(128, activation='relu'),\n",
        "    tf.keras.layers.Dense(64, activation='relu'),\n",
        "    tf.keras.layers.Dense(2, activation='softmax')\n",
        "])"
      ],
      "execution_count": null,
      "outputs": []
    },
    {
      "cell_type": "code",
      "metadata": {
        "id": "QGF2O9RTLFJO"
      },
      "source": [
        "model.compile(loss='categorical_crossentropy',optimizer='adam',metrics=['accuracy'])"
      ],
      "execution_count": null,
      "outputs": []
    },
    {
      "cell_type": "code",
      "metadata": {
        "colab": {
          "base_uri": "https://localhost:8080/"
        },
        "id": "4bhdpj-6LIsp",
        "outputId": "a0bd2eb5-15f4-443b-9f1f-18d5ed6624b6"
      },
      "source": [
        "num_epochs = 25\n",
        "history = model.fit(padded_train, label_train, epochs=num_epochs, \n",
        "                    validation_data=(padded_test, label_test), verbose=2)"
      ],
      "execution_count": null,
      "outputs": [
        {
          "output_type": "stream",
          "text": [
            "Epoch 1/25\n",
            "140/140 - 18s - loss: 0.2255 - accuracy: 0.9235 - val_loss: 0.0388 - val_accuracy: 0.9901\n",
            "Epoch 2/25\n",
            "140/140 - 15s - loss: 0.0341 - accuracy: 0.9908 - val_loss: 0.0385 - val_accuracy: 0.9892\n",
            "Epoch 3/25\n",
            "140/140 - 14s - loss: 0.0173 - accuracy: 0.9953 - val_loss: 0.0371 - val_accuracy: 0.9883\n",
            "Epoch 4/25\n",
            "140/140 - 15s - loss: 0.0090 - accuracy: 0.9973 - val_loss: 0.0316 - val_accuracy: 0.9919\n",
            "Epoch 5/25\n",
            "140/140 - 15s - loss: 0.0037 - accuracy: 0.9991 - val_loss: 0.0398 - val_accuracy: 0.9865\n",
            "Epoch 6/25\n",
            "140/140 - 15s - loss: 0.0016 - accuracy: 0.9996 - val_loss: 0.0375 - val_accuracy: 0.9928\n",
            "Epoch 7/25\n",
            "140/140 - 15s - loss: 4.7536e-04 - accuracy: 1.0000 - val_loss: 0.0520 - val_accuracy: 0.9865\n",
            "Epoch 8/25\n",
            "140/140 - 15s - loss: 0.0035 - accuracy: 0.9984 - val_loss: 0.0370 - val_accuracy: 0.9928\n",
            "Epoch 9/25\n",
            "140/140 - 15s - loss: 0.0016 - accuracy: 0.9996 - val_loss: 0.0408 - val_accuracy: 0.9892\n",
            "Epoch 10/25\n",
            "140/140 - 15s - loss: 2.0565e-04 - accuracy: 1.0000 - val_loss: 0.0377 - val_accuracy: 0.9937\n",
            "Epoch 11/25\n",
            "140/140 - 15s - loss: 8.0022e-05 - accuracy: 1.0000 - val_loss: 0.0402 - val_accuracy: 0.9910\n",
            "Epoch 12/25\n",
            "140/140 - 15s - loss: 5.6248e-05 - accuracy: 1.0000 - val_loss: 0.0423 - val_accuracy: 0.9910\n",
            "Epoch 13/25\n",
            "140/140 - 15s - loss: 4.3496e-05 - accuracy: 1.0000 - val_loss: 0.0444 - val_accuracy: 0.9919\n",
            "Epoch 14/25\n",
            "140/140 - 15s - loss: 3.4064e-05 - accuracy: 1.0000 - val_loss: 0.0465 - val_accuracy: 0.9919\n",
            "Epoch 15/25\n",
            "140/140 - 15s - loss: 2.6244e-05 - accuracy: 1.0000 - val_loss: 0.0480 - val_accuracy: 0.9919\n",
            "Epoch 16/25\n",
            "140/140 - 15s - loss: 2.2066e-05 - accuracy: 1.0000 - val_loss: 0.0496 - val_accuracy: 0.9919\n",
            "Epoch 17/25\n",
            "140/140 - 15s - loss: 1.8118e-05 - accuracy: 1.0000 - val_loss: 0.0508 - val_accuracy: 0.9919\n",
            "Epoch 18/25\n",
            "140/140 - 15s - loss: 1.5136e-05 - accuracy: 1.0000 - val_loss: 0.0520 - val_accuracy: 0.9919\n",
            "Epoch 19/25\n",
            "140/140 - 15s - loss: 1.2940e-05 - accuracy: 1.0000 - val_loss: 0.0532 - val_accuracy: 0.9919\n",
            "Epoch 20/25\n",
            "140/140 - 15s - loss: 1.1361e-05 - accuracy: 1.0000 - val_loss: 0.0544 - val_accuracy: 0.9919\n",
            "Epoch 21/25\n",
            "140/140 - 15s - loss: 9.3651e-06 - accuracy: 1.0000 - val_loss: 0.0553 - val_accuracy: 0.9919\n",
            "Epoch 22/25\n",
            "140/140 - 15s - loss: 8.1492e-06 - accuracy: 1.0000 - val_loss: 0.0564 - val_accuracy: 0.9919\n",
            "Epoch 23/25\n",
            "140/140 - 15s - loss: 7.2574e-06 - accuracy: 1.0000 - val_loss: 0.0573 - val_accuracy: 0.9919\n",
            "Epoch 24/25\n",
            "140/140 - 15s - loss: 6.2302e-06 - accuracy: 1.0000 - val_loss: 0.0583 - val_accuracy: 0.9919\n",
            "Epoch 25/25\n",
            "140/140 - 15s - loss: 5.5122e-06 - accuracy: 1.0000 - val_loss: 0.0592 - val_accuracy: 0.9919\n"
          ],
          "name": "stdout"
        }
      ]
    },
    {
      "cell_type": "markdown",
      "metadata": {
        "id": "uZjRqaveFr3e"
      },
      "source": [
        "KONVERSI KE TfLITE\n"
      ]
    },
    {
      "cell_type": "code",
      "metadata": {
        "colab": {
          "base_uri": "https://localhost:8080/"
        },
        "id": "fkdDvgpHHkv8",
        "outputId": "c3c96da2-74aa-4fe9-9248-9e4e45e9fb2b"
      },
      "source": [
        "converter = tf.lite.TFLiteConverter.from_keras_model(model)\n",
        "tflite_model = converter.convert()"
      ],
      "execution_count": null,
      "outputs": [
        {
          "output_type": "stream",
          "text": [
            "WARNING:absl:Found untraced functions such as lstm_cell_layer_call_fn, lstm_cell_layer_call_and_return_conditional_losses, lstm_cell_layer_call_fn, lstm_cell_layer_call_and_return_conditional_losses, lstm_cell_layer_call_and_return_conditional_losses while saving (showing 5 of 5). These functions will not be directly callable after loading.\n"
          ],
          "name": "stderr"
        },
        {
          "output_type": "stream",
          "text": [
            "INFO:tensorflow:Assets written to: /tmp/tmp4hdw5gfn/assets\n"
          ],
          "name": "stdout"
        },
        {
          "output_type": "stream",
          "text": [
            "INFO:tensorflow:Assets written to: /tmp/tmp4hdw5gfn/assets\n"
          ],
          "name": "stderr"
        }
      ]
    },
    {
      "cell_type": "code",
      "metadata": {
        "id": "LJKXPkM4INwL"
      },
      "source": [
        "with tf.io.gfile.GFile('model.tflite', 'wb') as f:\n",
        "  f.write(tflite_model)"
      ],
      "execution_count": null,
      "outputs": []
    },
    {
      "cell_type": "code",
      "metadata": {
        "id": "ID-acKz3IQUv"
      },
      "source": [
        ""
      ],
      "execution_count": null,
      "outputs": []
    }
  ]
}